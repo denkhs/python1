{
 "cells": [
  {
   "cell_type": "markdown",
   "metadata": {
    "deletable": true,
    "editable": true
   },
   "source": [
    "# Section 2.3: Containment, Identity, and Operator Precedence\n",
    "* Containment (in, not in)\n",
    "* Identity (is, is not)\n",
    "* Operator precedence\n",
    "\n",
    "### Students will be able to: \n",
    "* Test whether a list contains a certain element\n",
    "* Test whether a string is contained in another string\n",
    "* Test the identity of objects (i.e. int, float, lists, string)\n",
    "* Recognize the effects of operator precedence (including assignment (=), relational (<, >=,...), Boolean (and, or, not), arithmetic (/ // % * + -), identity (is), and containment (in))\n"
   ]
  },
  {
   "cell_type": "markdown",
   "metadata": {
    "deletable": true,
    "editable": true
   },
   "source": [
    "---\n",
    "<font size=\"6\" color=\"#00A0B2\"  face=\"verdana\"> <B>Concepts</B></font>  \n",
    "\n",
    "\n",
    "## Containment (`in`, `not in`)\n",    
    "[![view video](https://iajupyterprodblobs.blob.core.windows.net/imagecontainer/common/play_video.png)](http://edxinteractivepage.blob.core.windows.net/edxpages/f7cff1a7-5601-48a1-95a6-fd1fdfabd20e.html?details=[{\"src\":\"http://jupyternootbookwams.streaming.mediaservices.windows.net/2326044b-af10-484c-92e2-9d030651b532/DEV330x-2_3a_containment.ism/manifest\",\"type\":\"application/vnd.ms-sstr+xml\"}],[{\"src\":\"http://jupyternootbookwams.streaming.mediaservices.windows.net/247ee553-c187-4afa-b711-1f7a4dcaf578/DEV330x-2_3a_containment.vtt\",\"srclang\":\"en\",\"kind\":\"subtitles\",\"label\":\"english\"}])\n",
    "\n",
    "You will commonly encounter the need to test whether an element is contained in another container (i.e. list, tuple, string, etc.). For example, you might want to test whether `5` is an element of the list `[4, 8, 5, 6]`, or you might need to know if a substring `\"or\"` is contained within another string `\"Hello World\"`. It is possible to perform these tests by iterating over the elements of the container (list) and comparing them one by one to the element of interest. However, because this procedure is commonly used, Python has a containment operator (`in`), which can perform this procedure much more efficiently.\n",
    "\n",
    "NOTE: You can test if an element is NOT contained in another container by using the (`not in`) operator."
   ]
  },
  {
   "cell_type": "markdown",
   "metadata": {
    "deletable": true,
    "editable": true
   },
   "source": [
    "---\n",
    "<font size=\"6\" color=\"#00A0B2\"  face=\"verdana\"> <B>Examples</B></font>\n"
   ]
  },
  {
   "cell_type": "markdown",
   "metadata": {
    "deletable": true,
    "editable": true
   },
   "source": [
    "### List containment\n",
    "\n",
    "#### Is a number contained in a list?\n",
    "In this example, you will see how to test if a number is contained in another list of numbers"
   ]
  },
  {
   "cell_type": "code",
   "execution_count": null,
   "metadata": {
    "collapsed": true,
    "deletable": true,
    "editable": true
   },
   "outputs": [],
   "source": [
    "lst_container = [4, 8, 5, 6]\n",
    "\n",
    "x = 5\n",
    "if (x in lst_container):\n",
    "    print(x, \"is contained in list\")\n",
    "else:\n",
    "    print(x, \"is NOT contained in list\")\n",
    "    \n",
    "\n",
    "x = 10\n",
    "if (x in lst_container):\n",
    "    print(x, \"is contained in list\")\n",
    "else:\n",
    "    print(x, \"is NOT contained in list\")"
   ]
  },
  {
   "cell_type": "markdown",
   "metadata": {
    "deletable": true,
    "editable": true
   },
   "source": [
    "#### Is an element contained in a list?\n",
    "A Python list can contain elements of different types. In this example, you will test if an element is contained in a list containing a: number, list, string."
   ]
  },
  {
   "cell_type": "code",
   "execution_count": null,
   "metadata": {
    "collapsed": true,
    "deletable": true,
    "editable": true
   },
   "outputs": [],
   "source": [
    "lst_container = [4, [7, 3], 'string element']\n",
    "\n",
    "# 4 is an element in lst_container\n",
    "x = 4\n",
    "print(x, \"contained in lst_container:\", x in lst_container)\n",
    "\n",
    "# 7 is an element of a list inside lst_container, but it is NOT an element of the lst_container\n",
    "x = 7\n",
    "print(x, \"contained in lst_container:\", x in lst_container)\n",
    "\n",
    "# [7, 3] is an element of lst_container\n",
    "x = [7, 3]\n",
    "print(x, \"contained in lst_container:\", x in lst_container)\n"
   ]
  },
  {
   "cell_type": "markdown",
   "metadata": {
    "deletable": true,
    "editable": true
   },
   "source": [
    "### String containment\n",
    "\n",
    "You can test if a substring is contained in another larger string."
   ]
  },
  {
   "cell_type": "code",
   "execution_count": null,
   "metadata": {
    "collapsed": true,
    "deletable": true,
    "editable": true
   },
   "outputs": [],
   "source": [
    "sentence = \"This is a test sentence\"\n",
    "word1 = \"test\"\n",
    "word2 = \"something\"\n",
    "\n",
    "# testing if word1 is a substring of sentence\n",
    "if (word1 in sentence):\n",
    "    print(word1, \"is contained in:\", sentence)\n",
    "else:\n",
    "    print(word1, \"is not contained in:\", sentence)\n",
    "    \n",
    "# testing if word2 is a substring of sentence\n",
    "if (word2 in sentence):\n",
    "    print(word2, \"is contained in:\", sentence)\n",
    "else:\n",
    "    print(word2, \"is not contained in:\", sentence)\n",
    "    \n",
    "# another method to test if word2 is a substring of sentence\n",
    "# using the not operator\n",
    "if (word2 not in sentence):\n",
    "    print(word2, \"is not contained in:\", sentence)\n",
    "else:\n",
    "    print(word2, \"is contained in:\", sentence)"
   ]
  },
  {
   "cell_type": "markdown",
   "metadata": {
    "deletable": true,
    "editable": true
   },
   "source": [
    "---\n",
    "<font size=\"6\" color=\"#B24C00\"  face=\"verdana\"> <B>Task 1</B></font>\n",
    "\n",
    "## Containment (`in`, `not in`)"
   ]
  },
  {
   "cell_type": "markdown",
   "metadata": {
    "deletable": true,
    "editable": true
   },
   "source": [
    "### Number containment"
   ]
  },
  {
   "cell_type": "code",
   "execution_count": null,
   "metadata": {
    "collapsed": true,
    "deletable": true,
    "editable": true
   },
   "outputs": [],
   "source": [
    "# [ ] Write a program to prompt the user for an integer input between 0 and 100\n",
    "# then print if the number is contained in `lst`\n",
    "\n",
    "lst = [22, 89, 69, 78, 58, 22, 56, 13, 74, 8, 32, 58, 8, 63, 46, 79, 9, 38, 25, 96]\n",
    "\n",
    "# --Completed--\n",
    "lst = [22, 89, 69, 78, 58, 22, 56, 13, 74, 8, 32, 58, 8, 63, 46, 79, 9, 38, 25, 96]\n",
    "\n",
    "# prompt user for a valid number \n",
    "while True:\n",
    "    x = int(input(\"Enter an integer between 0 and 100: \"))\n",
    "    if (x >= 0 and x <= 100):\n",
    "        break\n",
    "\n",
    "if (x in lst):\n",
    "    print(x, \"is contained in list\")\n",
    "else:\n",
    "    print(x, \"is NOT contained in list\")"
   ]
  },
  {
   "cell_type": "markdown",
   "metadata": {
    "deletable": true,
    "editable": true
   },
   "source": [
    "### List containment"
   ]
  },
  {
   "cell_type": "code",
   "execution_count": null,
   "metadata": {
    "collapsed": true,
    "deletable": true,
    "editable": true
   },
   "outputs": [],
   "source": [
    "# [ ] The `records` list contains information about a company's employees\n",
    "# each of the elements in `records` is a list containing the name and ID of an employee.\n",
    "# Write a program to test if `applicant` is contained in `records` and display an appropriate message\n",
    "\n",
    "# Records of names and IDs\n",
    "records = [['Colette', 22347], ['Skye', 35803], ['Alton', 45825], ['Jin', 24213]]\n",
    "\n",
    "applicant = ['Joana', 20294]\n",
    "\n",
    "# --Completed--\n",
    "\n",
    "# Records of names and IDs\n",
    "records = [['Colette', 22347], ['Skye', 35803], ['Alton', 45825], ['Jin', 24213]]\n",
    "\n",
    "applicant = ['Joana', 20294]\n",
    "\n",
    "if applicant in records:\n",
    "    print(\"Record Found\")\n",
    "else:\n",
    "    print(\"No Record Found\")\n"
   ]
  },
  {
   "cell_type": "markdown",
   "metadata": {
    "deletable": true,
    "editable": true
   },
   "source": [
    "### String containment"
   ]
  },
  {
   "cell_type": "code",
   "execution_count": null,
   "metadata": {
    "collapsed": true,
    "deletable": true,
    "editable": true
   },
   "outputs": [],
   "source": [
    "# [ ] Write a program to prompt the user for a letter (capital or small) then print if the letter is a vowel\n",
    "# HINT: Use a string containing all the vowels and the `in` or `not in` operator\n",
    "\n",
    "# --Completed--\n",
    "\n",
    "# prompt user for a character\n",
    "c = input(\"Enter a letter: \")\n",
    "\n",
    "if c in \"aeiouAEIOU\":\n",
    "    print(c, \"is a vowel\")\n",
    "else:\n",
    "    print(c, \"is NOT a vowel\")"
   ]
  },
  {
   "cell_type": "markdown",
   "metadata": {
    "deletable": true,
    "editable": true
   },
   "source": [
    "---\n",
    "<font size=\"6\" color=\"#00A0B2\"  face=\"verdana\"> <B>Concepts</B></font>  \n",
    "\n",
    "\n",
    "## Identity (`is`, `is not`)\n",    
    "[![view video](https://iajupyterprodblobs.blob.core.windows.net/imagecontainer/common/play_video.png)](http://edxinteractivepage.blob.core.windows.net/edxpages/f7cff1a7-5601-48a1-95a6-fd1fdfabd20e.html?details=[{\"src\":\"http://jupyternootbookwams.streaming.mediaservices.windows.net/a15e74d8-691d-4c4b-8629-ec176f7ee4e7/DEV330x-2_3b_identity.ism/manifest\",\"type\":\"application/vnd.ms-sstr+xml\"}],[{\"src\":\"http://jupyternootbookwams.streaming.mediaservices.windows.net/df49ad45-b704-4f36-b744-6bee05f147c5/DEV330x-2_3b_identity.vtt\",\"srclang\":\"en\",\"kind\":\"subtitles\",\"label\":\"english\"}])\n",
    "\n",
    "Python is an object-oriented programming language that utilizes objects. You have been using objects; however, you have called them variables and lists. Python saves objects in certain memory locations, knowing the locations is of little importance; however, knowing if two seemingly different objects are at the same memory location is important. This will be critically important when dealing with sequences such as list, tuples, strings, and dictionaries.\n",
    "\n",
    "In Python, the concepts of identity and equality are related but not the same, for example:\n",
    "* When two objects are saved in the same memory location, they are equal and identical\n",
    "* When two objects are saved in different memory locations and contain the same information, they are equal but not identical\n",
    "* When two objects are saved in different memory locations and contain different information, they are not equal nor identical\n",
    "\n",
    "You can test whether two objects contain the same information using the equality operators `==` or `!=`. To test whether two objects are identical, you need to use the identity operators `is` or `is not`.\n"
   ]
  },
  {
   "cell_type": "markdown",
   "metadata": {
    "deletable": true,
    "editable": true
   },
   "source": [
    "---\n",
    "<font size=\"6\" color=\"#00A0B2\"  face=\"verdana\"> <B>Examples</B></font>\n",
    "\n",
    "In the following examples, when objects are identical, it is implied they are saved in the same memory location."
   ]
  },
  {
   "cell_type": "markdown",
   "metadata": {
    "deletable": true,
    "editable": true
   },
   "source": [
    "### Identity of variables containing numerical literals\n",
    "\n",
    "#### `int` literals\n",
    "Equal `int` literals are saved in the same memory location"
   ]
  },
  {
   "cell_type": "code",
   "execution_count": null,
   "metadata": {
    "collapsed": true,
    "deletable": true,
    "editable": true
   },
   "outputs": [],
   "source": [
    "# x, y: equal, identical \n",
    "x = 5\n",
    "y = 5\n",
    "print(\"x equal y ? \", x == y)\n",
    "print(\"x is identical to y ?\", x is y)"
   ]
  },
  {
   "cell_type": "code",
   "execution_count": null,
   "metadata": {
    "collapsed": true,
    "deletable": true,
    "editable": true
   },
   "outputs": [],
   "source": [
    "# x, y: not equal, not identical\n",
    "x = 5\n",
    "y = 6\n",
    "print(\"x equal y ? \", x == y)\n",
    "print(\"x is identical to y ?\", x is y)"
   ]
  },
  {
   "cell_type": "markdown",
   "metadata": {
    "deletable": true,
    "editable": true
   },
   "source": [
    "#### `float` literals\n",
    "\n",
    "Equal `float` literals are not identical. In other words, equal `float` literals are saved in different memory locations."
   ]
  },
  {
   "cell_type": "code",
   "execution_count": null,
   "metadata": {
    "collapsed": true,
    "deletable": true,
    "editable": true
   },
   "outputs": [],
   "source": [
    "# x, y: equal, not identical \n",
    "x = 5.6\n",
    "y = 5.6\n",
    "print(\"x equal y ? \", x == y)\n",
    "print(\"x is identical to y ?\", x is y)"
   ]
  },
  {
   "cell_type": "code",
   "execution_count": null,
   "metadata": {
    "collapsed": true,
    "deletable": true,
    "editable": true
   },
   "outputs": [],
   "source": [
    "# x, y: not equal, not identical \n",
    "x = 5.6\n",
    "y = 10.6\n",
    "print(\"x equal y ? \", x == y)\n",
    "print(\"x is identical to y ?\", x is y)"
   ]
  },
  {
   "cell_type": "markdown",
   "metadata": {
    "deletable": true,
    "editable": true
   },
   "source": [
    "### Identity of variables containing lists\n",
    "\n",
    "The following examples are particularly important to understanding the concept of identity and equality. You will see how you can create two equal but not identical lists, then you will see how to create two identical (and equal) lists and the effect of changing one on the other."
   ]
  },
  {
   "cell_type": "markdown",
   "metadata": {
    "deletable": true,
    "editable": true
   },
   "source": [
    "#### Equal but not identical lists\n",
    "You can create two equal but not identical lists, by assigning the same list literal to two different variables. A change in one of the list does not have any effect on the content of the other."
   ]
  },
  {
   "cell_type": "code",
   "execution_count": null,
   "metadata": {
    "collapsed": true,
    "deletable": true,
    "editable": true
   },
   "outputs": [],
   "source": [
    "# Different lists containing the same data\n",
    "x = [4, 9, 8]\n",
    "y = [4, 9, 8]\n",
    "\n",
    "# x and y are equal, because they contain the same data\n",
    "# x and y are NOT identical, because they are saved in different memory locations\n",
    "print(\"x equal y ? \", x == y)\n",
    "print(\"x is identical to y ?\", x is y)\n",
    "\n",
    "# Because they are not identical, changing x does not affect y\n",
    "x[1] = 5\n",
    "\n",
    "print()\n",
    "print(\"After changing x[1]\")\n",
    "print(\"x =\", x)\n",
    "print(\"y =\", y)\n",
    "print(\"x equal y ? \", x == y)\n",
    "print(\"x is identical to y ?\", x is y)"
   ]
  },
  {
   "cell_type": "markdown",
   "metadata": {
    "deletable": true,
    "editable": true
   },
   "source": [
    "#### Equal and identical lists\n",
    "Two variables referring to the same list are called identical variables. They can be treated as two names for the same list; in other words, both of the variables refer to the same memory location and a change in one is reflected as the same change in the other. You can simply create an identical variable by assigning it the variable of interest. The following example illustrates this idea."
   ]
  },
  {
   "cell_type": "code",
   "execution_count": null,
   "metadata": {
    "collapsed": true,
    "deletable": true,
    "editable": true
   },
   "outputs": [],
   "source": [
    "# Identical list\n",
    "x = [4, 9, 8]\n",
    "y = x\n",
    "\n",
    "# x and y are equal, because they contain the same data\n",
    "# x and y are identical, because they are saved in the same memory location\n",
    "print(\"x equal y ? \", x == y)\n",
    "print(\"x is identical to y ?\", x is y)\n",
    "\n",
    "# Because they are identical, changing x also changes y\n",
    "x[1] = 5\n",
    "\n",
    "print()\n",
    "print(\"After changing x[1]\")\n",
    "print(\"x =\", x)\n",
    "print(\"y =\", y)\n",
    "print(\"x equal y ? \", x == y)\n",
    "print(\"x is identical to y ?\", x is y)"
   ]
  },
  {
   "cell_type": "markdown",
   "metadata": {
    "deletable": true,
    "editable": true
   },
   "source": [
    "### Identity of variables containing string literals\n",
    "\n",
    "String identity and equality is very similar to that of lists. However, when you assign equal strings to different variables, the interpreter might detect this and optimize the code by making the variables identical."
   ]
  },
  {
   "cell_type": "code",
   "execution_count": null,
   "metadata": {
    "collapsed": true,
    "deletable": true,
    "editable": true
   },
   "outputs": [],
   "source": [
    "# s1, s2: equal, not identical\n",
    "s1 = 'whole milk'\n",
    "s2 = 'whole milk'\n",
    "print(\"s1 equal s2 ? \", s1 == s2)\n",
    "print(\"s1 is identical to s2 ?\", s1 is s2)\n",
    "print(\"s1 is not identical to s2 ?\", s1 is not s2)"
   ]
  },
  {
   "cell_type": "code",
   "execution_count": null,
   "metadata": {
    "collapsed": true,
    "deletable": true,
    "editable": true
   },
   "outputs": [],
   "source": [
    "# s1, s2: equal, identical\n",
    "s1 = 'whole milk'\n",
    "s2 = s1\n",
    "print(\"s1 equal s2 ? \", s1 == s2)\n",
    "print(\"s1 is identical to s2 ?\", s1 is s2)\n",
    "print(\"s1 is not identical to s2 ?\", s1 is not s2)"
   ]
  },
  {
   "cell_type": "code",
   "execution_count": null,
   "metadata": {
    "collapsed": true,
    "deletable": true,
    "editable": true
   },
   "outputs": [],
   "source": [
    "# s1, s2: equal, identical (after interpreter optimization)\n",
    "s1 = 'python'\n",
    "s2 = 'python'\n",
    "print(\"s1 equal s2 ? \", s1 == s2)\n",
    "print(\"s1 is identical to s2 ?\", s1 is s2)\n",
    "print(\"s1 is not identical to s2 ?\", s1 is not s2)"
   ]
  },
  {
   "cell_type": "code",
   "execution_count": null,
   "metadata": {
    "collapsed": true,
    "deletable": true,
    "editable": true
   },
   "outputs": [],
   "source": [
    "# s1, s2: not equal, not identical \n",
    "s1 = 'python'\n",
    "s2 = 'java'\n",
    "print(\"s1 equal s2 ? \", s1 == s2)\n",
    "print(\"s1 is identical to s2 ?\", s1 is s2)\n",
    "print(\"s1 is not identical to s2 ?\", s1 is not s2)"
   ]
  },
  {
   "cell_type": "markdown",
   "metadata": {
    "deletable": true,
    "editable": true
   },
   "source": [
    "---\n",
    "<font size=\"6\" color=\"#B24C00\"  face=\"verdana\"> <B>Task 2</B></font>\n",
    "\n",
    "## Identity (`is`, `is not`)"
   ]
  },
  {
   "cell_type": "markdown",
   "metadata": {
    "deletable": true,
    "editable": true
   },
   "source": [
    "### Identity of variables containing strings"
   ]
  },
  {
   "cell_type": "code",
   "execution_count": null,
   "metadata": {
    "collapsed": true,
    "deletable": true,
    "editable": true
   },
   "outputs": [],
   "source": [
    "# [ ] Write a program to:\n",
    "# 1) Create a variable `e` that is equal but NOT identical to `s`\n",
    "# 2) Test the equality and identity of `s` and `e` and print the results\n",
    "# 3) Create a variable `i` that is equal and identical to `s`\n",
    "# 4) Test the equality and identity of `s` and `i` and print the results\n",
    "# 5) Test the equality and identity of `e` and `i` and print the results\n",
    "\n",
    "s = \"Whole Wheat Bread\"\n",
    "#TODO\n",
    "\n",
    "# --Completed--\n",
    "s = \"Whole Wheat Bread\"\n",
    "\n",
    "# Create a variable 'e' (equal, not identical) and compare to 's'\n",
    "e = \"Whole Wheat Bread\"\n",
    "print(\"s =\", s)\n",
    "print(\"e =\", e)\n",
    "print(\"s equal e ? \", s == e)\n",
    "print(\"s is identical to e ?\", s is e)\n",
    "print(\"s is not identical to e ?\", s is not e)\n",
    "\n",
    "print()\n",
    "\n",
    "# Create a variable 'i' (equal, identical) and compare to 's'\n",
    "i = s\n",
    "print(\"s =\", s)\n",
    "print(\"i =\", i)\n",
    "print(\"s equal i ? \", s == i)\n",
    "print(\"s is identical to i ?\", s is i)\n",
    "print(\"s is not identical to i ?\", s is not i)\n",
    "\n",
    "print()\n",
    "\n",
    "# Compare equality and identity of `e` and `i`\n",
    "print(\"e =\", e)\n",
    "print(\"i =\", i)\n",
    "print(\"e equal i ?\", e == i)\n",
    "print(\"e is identical to i ?\", e is i)"
   ]
  },
  {
   "cell_type": "markdown",
   "metadata": {
    "deletable": true,
    "editable": true
   },
   "source": [
    "### Identity of variables containing lists"
   ]
  },
  {
   "cell_type": "code",
   "execution_count": null,
   "metadata": {
    "collapsed": true,
    "deletable": true,
    "editable": true
   },
   "outputs": [],
   "source": [
    "# [ ] Write a program to:\n",
    "# 1) Create a variable `e` that is equal but NOT identical to `x`\n",
    "# 2) Test the equality and identity of `x` and `e` and print the results\n",
    "# 3) Create a variable `i` that is equal and identical to `x`\n",
    "# 4) Test the equality and identity of `x` and `i` and print the results\n",
    "# 5) Test the equality and identity of `e` and `i` and print the results\n",
    "\n",
    "x = [[-1, 2],[3, 4],[-5, 6]]\n",
    "#TODO\n",
    "\n",
    "# --Completed--\n",
    "x = [[-1, 2],[3, 4],[-5, 6]]\n",
    "\n",
    "# Create a variable 'e' (equal, not identical) and compare to 'x'\n",
    "e = [[-1, 2],[3, 4],[-5, 6]]\n",
    "print(\"x =\", x)\n",
    "print(\"e =\", e)\n",
    "print(\"x equal e ?\", x == e)\n",
    "print(\"x is identical to e ?\", x is e)\n",
    "\n",
    "print()\n",
    "\n",
    "# Create a variable 'i' (equal, identical) and compare to 'x'\n",
    "i = x\n",
    "print(\"x =\", x)\n",
    "print(\"i =\", i)\n",
    "print(\"x equal i ?\", x == i)\n",
    "print(\"x is identical to i ?\", x is i)\n",
    "\n",
    "print()\n",
    "\n",
    "# Compare equality and identity of `e` and `i`\n",
    "print(\"e =\", e)\n",
    "print(\"i =\", i)\n",
    "print(\"e equal i ?\", e == i)\n",
    "print(\"e is identical to i ?\", e is i)"
   ]
  },
  {
   "cell_type": "markdown",
   "metadata": {
    "deletable": true,
    "editable": true
   },
   "source": [
    "---\n",
    "<font size=\"6\" color=\"#00A0B2\"  face=\"verdana\"> <B>Concepts</B></font>  \n",
    "\n",
    "\n",
    "## Operator Precedence\n",    
    "[![view video](https://iajupyterprodblobs.blob.core.windows.net/imagecontainer/common/play_video.png)](http://edxinteractivepage.blob.core.windows.net/edxpages/f7cff1a7-5601-48a1-95a6-fd1fdfabd20e.html?details=[{\"src\":\"http://jupyternootbookwams.streaming.mediaservices.windows.net/38d94845-3999-49d3-91a7-0f049921bb73/DEV330x-2_3c_operator_precedence.ism/manifest\",\"type\":\"application/vnd.ms-sstr+xml\"}],[{\"src\":\"http://jupyternootbookwams.streaming.mediaservices.windows.net/c0b27a76-d780-4f44-9219-5bbc3d408978/DEV330x-2_3c_operator_precedence.vtt\",\"srclang\":\"en\",\"kind\":\"subtitles\",\"label\":\"english\"}])\n",
    "\n",
    "You have seen that the Boolean operator `not` has a higher precedence than the Boolean operators `and` and `or`. You also know that in arithmetic expressions, multiplication has a higher precedence than addition and subtraction. In Python, you can combine different operator types in the same expression (`3 + 1 > 5`); when you do, operator precedence still applies. The following table summarizes operator precedence from lowest precedence to highest precedence. Operators in the same row have the same precedence, and the precedence is resolved from left to right, for example in (`3 * 6 / 9`), `*` and `/` have the same precedence, and Python will perform the multiplication first (`18 / 9`) followed by the division (`2`).\n",
    "\n",
    "|Operator| Short Description|\n",
    "|--------|------------------|\n",
    "|or| Boolean or|\n",
    "|and| Boolean and|\n",
    "|not| Boolean not|\n",
    "|in, not in, is , is not, <, <=, >, >=, !=, ==| Containment and identity test, relational comparison|\n",
    "|+, -| Arithmetic addition and subtraction|\n",
    "|\\*, /, //, % | Arithmetic, multiplication, division, int division, modulo|\n",
    "|\\*\\* | Exponentiation|\n",
    "|(), [], {}| Parentheses, brackets|\n",
    "\n",
    "NOTE: When in doubt, use the parentheses operator to control the precedence in an expression"
   ]
  },
  {
   "cell_type": "markdown",
   "metadata": {
    "deletable": true,
    "editable": true
   },
   "source": [
    "---\n",
    "<font size=\"6\" color=\"#00A0B2\"  face=\"verdana\"> <B>Examples</B></font>\n",
    "\n",
    "Use the operator precedence table to predict the outcome of these examples before looking at the answers."
   ]
  },
  {
   "cell_type": "markdown",
   "metadata": {
    "deletable": true,
    "editable": true
   },
   "source": [
    "### Arithmetic operations"
   ]
  },
  {
   "cell_type": "code",
   "execution_count": null,
   "metadata": {
    "collapsed": true,
    "deletable": true,
    "editable": true
   },
   "outputs": [],
   "source": [
    "# * has higher precedence\n",
    "2 + 3 * 6"
   ]
  },
  {
   "cell_type": "code",
   "execution_count": null,
   "metadata": {
    "collapsed": true,
    "deletable": true,
    "editable": true
   },
   "outputs": [],
   "source": [
    "# To change precedence, we add ( )\n",
    "(2 + 3) * 6"
   ]
  },
  {
   "cell_type": "markdown",
   "metadata": {
    "deletable": true,
    "editable": true
   },
   "source": [
    "### Combined operations"
   ]
  },
  {
   "cell_type": "code",
   "execution_count": null,
   "metadata": {
    "collapsed": true,
    "deletable": true,
    "editable": true
   },
   "outputs": [],
   "source": [
    "# Arithmetic and relational operations\n",
    "3 * 2 < 10"
   ]
  },
  {
   "cell_type": "code",
   "execution_count": null,
   "metadata": {
    "collapsed": true,
    "deletable": true,
    "editable": true
   },
   "outputs": [],
   "source": [
    "# Exponentiation has a higher precedence\n",
    "2**3 + 1 == 16"
   ]
  },
  {
   "cell_type": "code",
   "execution_count": null,
   "metadata": {
    "collapsed": true,
    "deletable": true,
    "editable": true
   },
   "outputs": [],
   "source": [
    "# Adding () changes the precedence of 3 + 1 and the exponentiation operator\n",
    "2 ** (3 + 1) == 16"
   ]
  },
  {
   "cell_type": "code",
   "execution_count": null,
   "metadata": {
    "collapsed": true,
    "deletable": true,
    "editable": true
   },
   "outputs": [],
   "source": [
    "# Arithmetic, relational, and Boolean operators\n",
    "2 ** (3 + 1) == 16 and 3 * 2 < 10"
   ]
  },
  {
   "cell_type": "code",
   "execution_count": null,
   "metadata": {
    "collapsed": true,
    "deletable": true,
    "editable": true
   },
   "outputs": [],
   "source": [
    "# Arithmetic, relational, Boolean, and containment operators\n",
    "2 ** (3 + 1) != 16 or 3 * 2 in [5, 6, 3]"
   ]
  },
  {
   "cell_type": "markdown",
   "metadata": {
    "deletable": true,
    "editable": true
   },
   "source": [
    "### Unexpected outcome!\n",
    "The following 2 examples generate unexpected outcomes!"
   ]
  },
  {
   "cell_type": "code",
   "execution_count": null,
   "metadata": {
    "collapsed": true,
    "deletable": true,
    "editable": true
   },
   "outputs": [],
   "source": [
    "# Unexpected outcome!\n",
    "6 < 10 != True"
   ]
  },
  {
   "cell_type": "code",
   "execution_count": null,
   "metadata": {
    "collapsed": true,
    "deletable": true,
    "editable": true
   },
   "outputs": [],
   "source": [
    "# Unexpected outcome!\n",
    "6 < 10 != False"
   ]
  },
  {
   "cell_type": "markdown",
   "metadata": {
    "deletable": true,
    "editable": true
   },
   "source": [
    "What is actually being evaluated is:\n",
    "\n",
    "First case:\n",
    "```python\n",
    "(6 < 10) and (10 != True)\n",
    "```\n",
    "\n",
    "Second case:\n",
    "```python\n",
    "(6 < 10) and (10 != False)\n",
    "```\n",
    "\n",
    "In both cases, 10 is not logical and doesn't equal `True` or `False`. Therefore, both expressions are evaluated as (`True and True`) which is `True`. \n",
    "\n",
    "You might face similar confusing cases. It is highly recommended that you use `()` to fix and debug such cases."
   ]
  },
  {
   "cell_type": "code",
   "execution_count": null,
   "metadata": {
    "collapsed": true,
    "deletable": true,
    "editable": true
   },
   "outputs": [],
   "source": [
    "# Expected outcome after adding ()\n",
    "(6 < 10) != True"
   ]
  },
  {
   "cell_type": "markdown",
   "metadata": {
    "deletable": true,
    "editable": true
   },
   "source": [
    "---\n",
    "<font size=\"6\" color=\"#B24C00\"  face=\"verdana\"> <B>Task 3</B></font>\n",
    "\n",
    "## Operator Precedence"
   ]
  },
  {
   "cell_type": "code",
   "execution_count": null,
   "metadata": {
    "collapsed": true,
    "deletable": true,
    "editable": true
   },
   "outputs": [],
   "source": [
    "# [ ] Correct the following expression so the answer is `True`\n",
    "\n",
    "6 + 2 < 9 == True\n",
    "\n",
    "# --Completed--\n",
    "(6 + 2 < 9) == True"
   ]
  },
  {
   "cell_type": "code",
   "execution_count": null,
   "metadata": {
    "collapsed": true,
    "deletable": true,
    "editable": true
   },
   "outputs": [],
   "source": [
    "# [ ] Correct the following expression so the answer is `True`\n",
    "\n",
    "3 ** 2 + 1 >= 3 * 8 + 1\n",
    "\n",
    "# --Completed--\n",
    "3 ** (2 + 1) >= 3 * 8 + 1\n",
    "\n",
    "# Alternative solution\n",
    "3 ** 2 + 1 < 3 * 8 + 1\n"
   ]
  },
  {
   "cell_type": "code",
   "execution_count": null,
   "metadata": {
    "collapsed": true,
    "deletable": true,
    "editable": true
   },
   "outputs": [],
   "source": [
    "# [ ] Correct the following expression so the answer is `True`\n",
    "\n",
    "5 + 3 * 2 == 16\n",
    "\n",
    "# --Completed--\n",
    "(5 + 3) * 2 == 16\n",
    "\n",
    "# Alternative solution\n",
    "5 + 3 * 2 != 16"
   ]
  },
  {
   "cell_type": "code",
   "execution_count": null,
   "metadata": {
    "collapsed": true,
    "deletable": true,
    "editable": true
   },
   "outputs": [],
   "source": [
    "# [ ] Correct the following expression so the answer is `True`\n",
    "\n",
    "4 > 3 and 5 + 6 > 7 == True\n",
    "\n",
    "# --Completed--\n",
    "4 > 3 and (5 + 6 > 7) == True\n"
   ]
  }
 ],
 "metadata": {
  "kernelspec": {
   "display_name": "Python 3",
   "language": "python",
   "name": "python3"
  },
  "language_info": {
   "codemirror_mode": {
    "name": "ipython",
    "version": 3
   },
   "file_extension": ".py",
   "mimetype": "text/x-python",
   "name": "python",
   "nbconvert_exporter": "python",
   "pygments_lexer": "ipython3",
   "version": "3.6.3"
  }
 },
 "nbformat": 4,
 "nbformat_minor": 2
}
